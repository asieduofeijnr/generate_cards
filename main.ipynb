{
 "cells": [
  {
   "cell_type": "code",
   "execution_count": 321,
   "metadata": {},
   "outputs": [],
   "source": [
    "from manipulate_data_class import Data\n",
    "from card_generator_class import Cards\n",
    "import pandas as pd\n",
    "import random"
   ]
  },
  {
   "cell_type": "code",
   "execution_count": 322,
   "metadata": {},
   "outputs": [],
   "source": [
    "FILEPATH = \"gtp_samples.json\"\n",
    "read_cards = Data(attribute=\"r\", filepath=FILEPATH)\n",
    "card_text = read_cards.read_json()\n",
    "df = pd.DataFrame(card_text)"
   ]
  },
  {
   "cell_type": "code",
   "execution_count": 323,
   "metadata": {},
   "outputs": [
    {
     "data": {
      "text/html": [
       "<div>\n",
       "<style scoped>\n",
       "    .dataframe tbody tr th:only-of-type {\n",
       "        vertical-align: middle;\n",
       "    }\n",
       "\n",
       "    .dataframe tbody tr th {\n",
       "        vertical-align: top;\n",
       "    }\n",
       "\n",
       "    .dataframe thead th {\n",
       "        text-align: right;\n",
       "    }\n",
       "</style>\n",
       "<table border=\"1\" class=\"dataframe\">\n",
       "  <thead>\n",
       "    <tr style=\"text-align: right;\">\n",
       "      <th></th>\n",
       "      <th>text</th>\n",
       "      <th>pack</th>\n",
       "      <th>pick</th>\n",
       "      <th>color</th>\n",
       "    </tr>\n",
       "  </thead>\n",
       "  <tbody>\n",
       "    <tr>\n",
       "      <th>20</th>\n",
       "      <td>Jollof rice</td>\n",
       "      <td>Ghana CAH</td>\n",
       "      <td>NaN</td>\n",
       "      <td>white</td>\n",
       "    </tr>\n",
       "    <tr>\n",
       "      <th>21</th>\n",
       "      <td>Corruption</td>\n",
       "      <td>Ghana CAH</td>\n",
       "      <td>NaN</td>\n",
       "      <td>white</td>\n",
       "    </tr>\n",
       "    <tr>\n",
       "      <th>22</th>\n",
       "      <td>Sarcasm</td>\n",
       "      <td>Ghana CAH</td>\n",
       "      <td>NaN</td>\n",
       "      <td>white</td>\n",
       "    </tr>\n",
       "    <tr>\n",
       "      <th>23</th>\n",
       "      <td>Religious leaders</td>\n",
       "      <td>Ghana CAH</td>\n",
       "      <td>NaN</td>\n",
       "      <td>white</td>\n",
       "    </tr>\n",
       "    <tr>\n",
       "      <th>24</th>\n",
       "      <td>Waakye</td>\n",
       "      <td>Ghana CAH</td>\n",
       "      <td>NaN</td>\n",
       "      <td>white</td>\n",
       "    </tr>\n",
       "    <tr>\n",
       "      <th>...</th>\n",
       "      <td>...</td>\n",
       "      <td>...</td>\n",
       "      <td>...</td>\n",
       "      <td>...</td>\n",
       "    </tr>\n",
       "    <tr>\n",
       "      <th>201</th>\n",
       "      <td>A crowd of fans at a Ghanaian music concert</td>\n",
       "      <td>Ghana CAH</td>\n",
       "      <td>NaN</td>\n",
       "      <td>white</td>\n",
       "    </tr>\n",
       "    <tr>\n",
       "      <th>202</th>\n",
       "      <td>The joyful sound of 'Adowa' drums during a tra...</td>\n",
       "      <td>Ghana CAH</td>\n",
       "      <td>NaN</td>\n",
       "      <td>white</td>\n",
       "    </tr>\n",
       "    <tr>\n",
       "      <th>203</th>\n",
       "      <td>Ghanaian fashionistas rocking colorful Kente o...</td>\n",
       "      <td>Ghana CAH</td>\n",
       "      <td>NaN</td>\n",
       "      <td>white</td>\n",
       "    </tr>\n",
       "    <tr>\n",
       "      <th>204</th>\n",
       "      <td>The vibrant street art in Accra</td>\n",
       "      <td>Ghana CAH</td>\n",
       "      <td>NaN</td>\n",
       "      <td>white</td>\n",
       "    </tr>\n",
       "    <tr>\n",
       "      <th>205</th>\n",
       "      <td>The famous Cape Coast Castle with a dark history</td>\n",
       "      <td>Ghana CAH</td>\n",
       "      <td>NaN</td>\n",
       "      <td>white</td>\n",
       "    </tr>\n",
       "  </tbody>\n",
       "</table>\n",
       "<p>92 rows × 4 columns</p>\n",
       "</div>"
      ],
      "text/plain": [
       "                                                  text       pack  pick  color\n",
       "20                                         Jollof rice  Ghana CAH   NaN  white\n",
       "21                                          Corruption  Ghana CAH   NaN  white\n",
       "22                                             Sarcasm  Ghana CAH   NaN  white\n",
       "23                                   Religious leaders  Ghana CAH   NaN  white\n",
       "24                                              Waakye  Ghana CAH   NaN  white\n",
       "..                                                 ...        ...   ...    ...\n",
       "201        A crowd of fans at a Ghanaian music concert  Ghana CAH   NaN  white\n",
       "202  The joyful sound of 'Adowa' drums during a tra...  Ghana CAH   NaN  white\n",
       "203  Ghanaian fashionistas rocking colorful Kente o...  Ghana CAH   NaN  white\n",
       "204                    The vibrant street art in Accra  Ghana CAH   NaN  white\n",
       "205   The famous Cape Coast Castle with a dark history  Ghana CAH   NaN  white\n",
       "\n",
       "[92 rows x 4 columns]"
      ]
     },
     "execution_count": 323,
     "metadata": {},
     "output_type": "execute_result"
    }
   ],
   "source": [
    "packs = df.pack.unique()\n",
    "card_pack = packs[random.randint(0, len(packs) - 1)]\n",
    "rand_pack_white = df.loc[(df[\"pack\"] == card_pack) & (df[\"color\"] == \"white\")]\n",
    "rand_pack_white"
   ]
  },
  {
   "cell_type": "code",
   "execution_count": 324,
   "metadata": {},
   "outputs": [
    {
     "data": {
      "text/html": [
       "<div>\n",
       "<style scoped>\n",
       "    .dataframe tbody tr th:only-of-type {\n",
       "        vertical-align: middle;\n",
       "    }\n",
       "\n",
       "    .dataframe tbody tr th {\n",
       "        vertical-align: top;\n",
       "    }\n",
       "\n",
       "    .dataframe thead th {\n",
       "        text-align: right;\n",
       "    }\n",
       "</style>\n",
       "<table border=\"1\" class=\"dataframe\">\n",
       "  <thead>\n",
       "    <tr style=\"text-align: right;\">\n",
       "      <th></th>\n",
       "      <th>text</th>\n",
       "      <th>pack</th>\n",
       "      <th>pick</th>\n",
       "      <th>color</th>\n",
       "    </tr>\n",
       "  </thead>\n",
       "  <tbody>\n",
       "    <tr>\n",
       "      <th>20</th>\n",
       "      <td>Jollof rice</td>\n",
       "      <td>Ghana CAH</td>\n",
       "      <td>NaN</td>\n",
       "      <td>white</td>\n",
       "    </tr>\n",
       "  </tbody>\n",
       "</table>\n",
       "</div>"
      ],
      "text/plain": [
       "           text       pack  pick  color\n",
       "20  Jollof rice  Ghana CAH   NaN  white"
      ]
     },
     "execution_count": 324,
     "metadata": {},
     "output_type": "execute_result"
    }
   ],
   "source": [
    "rand_pack_white.loc[rand_pack_white[\"text\"] == \"Jollof rice\"]"
   ]
  },
  {
   "cell_type": "code",
   "execution_count": 325,
   "metadata": {},
   "outputs": [],
   "source": [
    "from PIL import Image, ImageDraw, ImageFont\n",
    "import textwrap"
   ]
  },
  {
   "cell_type": "code",
   "execution_count": 326,
   "metadata": {},
   "outputs": [],
   "source": [
    "color = 'white'"
   ]
  },
  {
   "cell_type": "code",
   "execution_count": 327,
   "metadata": {},
   "outputs": [],
   "source": [
    "if color == \"black\":\n",
    "    text_fill_color = (255, 255, 255)\n",
    "    logo = \"Transparent_logo_black.png\"\n",
    "if color == \"white\":\n",
    "    text_fill_color = (0, 0, 0)\n",
    "    logo = \"Transparent_logo_white.png\""
   ]
  },
  {
   "cell_type": "code",
   "execution_count": 328,
   "metadata": {},
   "outputs": [],
   "source": [
    "height = 800\n",
    "width = 600\n"
   ]
  },
  {
   "cell_type": "code",
   "execution_count": 329,
   "metadata": {},
   "outputs": [],
   "source": [
    "signature = \"Cards Against GoldCoast Politics\"\n",
    "font = ImageFont.truetype(\"helveticaneuebd.ttf\", size=65)\n",
    "signature_font = ImageFont.truetype(\"helveticaneue.ttf\", size=20)\n",
    "img = Image.new(\"RGB\", (width, height), color=color)"
   ]
  },
  {
   "cell_type": "code",
   "execution_count": 330,
   "metadata": {},
   "outputs": [],
   "source": [
    "text_position = (40, 40)\n",
    "signature_position = (100, 750)\n",
    "text_on_card = ImageDraw.Draw(img)\n",
    "signature_on_card = ImageDraw.Draw(img)"
   ]
  },
  {
   "cell_type": "code",
   "execution_count": 331,
   "metadata": {},
   "outputs": [],
   "source": [
    "if color == \"white\":\n",
    "    border_color = (0, 0, 0)  # Black border for white cards\n",
    "if color == \"black\":\n",
    "    border_color = (255, 255, 255)  # White border for black cards\n",
    "\n",
    "border_width = 1\n",
    "border_rect = [\n",
    "(border_width, border_width),\n",
    "(width - border_width, height - border_width),\n",
    "]\n",
    "border_draw = ImageDraw.Draw(img)\n",
    "border_draw.rectangle(\n",
    "border_rect, outline=border_color, width=border_width)\n",
    "\n",
    "signature_on_card.text(\n",
    "    signature_position, signature, font=signature_font, fill=text_fill_color\n",
    ")"
   ]
  },
  {
   "cell_type": "code",
   "execution_count": 332,
   "metadata": {},
   "outputs": [],
   "source": [
    "line_width = 40\n",
    "line_height = 80\n",
    "message = \"Hello There How Are You and the family\""
   ]
  },
  {
   "cell_type": "code",
   "execution_count": 333,
   "metadata": {},
   "outputs": [
    {
     "data": {
      "image/jpeg": "[encoded data removed]",
      "image/png": "[encoded data removed]",
      "text/plain": [
       "<PIL.Image.Image image mode=RGB size=600x800>"
      ]
     },
     "execution_count": 333,
     "metadata": {},
     "output_type": "execute_result"
    }
   ],
   "source": [
    "wrapped_text = textwrap.wrap(\n",
    "    message, width=int((600) / line_width))\n",
    "wrapped_text_height = len(wrapped_text) * (line_height)\n",
    "\n",
    "for line in wrapped_text:\n",
    "    text_on_card.text(text_position, line, font=font,\n",
    "                        fill=text_fill_color)\n",
    "    text_position = (\n",
    "        text_position[0],\n",
    "        text_position[1] + line_height + 15,\n",
    "    )  # Move to the next line\n",
    "\n",
    "# Load the small image to be inserted\n",
    "small_image = Image.open(logo)\n",
    "small_image_position = (40, 735)\n",
    "small_image_size = (50, 50)\n",
    "small_image = small_image.resize(small_image_size)\n",
    "img.paste(small_image, small_image_position)\n",
    "img"
   ]
  },
  {
   "cell_type": "code",
   "execution_count": 2,
   "metadata": {},
   "outputs": [],
   "source": [
    "from manipulate_data_class import Data\n",
    "from card_generator_class import Cards\n",
    "import pandas as pd\n",
    "import random\n",
    "import streamlit as st\n",
    "import io\n"
   ]
  },
  {
   "cell_type": "code",
   "execution_count": 3,
   "metadata": {},
   "outputs": [],
   "source": [
    "FILEPATH = \"original_cards_dict.json\"\n",
    "\n",
    "\n",
    "read_cards = Data(attribute=\"r\", filepath=FILEPATH)\n",
    "card_text = read_cards.read_json()\n",
    "df = pd.DataFrame(card_text)"
   ]
  },
  {
   "cell_type": "code",
   "execution_count": 8,
   "metadata": {},
   "outputs": [],
   "source": [
    "packs = df.pack.unique()\n",
    "card_pack = packs[random.randint(0, len(packs) - 1)]\n",
    "rand_pack_black = df.loc[(df[\"pack\"] == card_pack) & (df[\"color\"] == \"black\")]\n",
    "rand_pack_white = df.loc[(df[\"pack\"] == card_pack) & (df[\"color\"] == \"white\")]"
   ]
  },
  {
   "cell_type": "code",
   "execution_count": 33,
   "metadata": {},
   "outputs": [],
   "source": [
    "rand_pack_white = rand_pack_white.to_dict('records')"
   ]
  },
  {
   "cell_type": "code",
   "execution_count": 132,
   "metadata": {},
   "outputs": [
    {
     "data": {
      "text/plain": [
       "[{'text': 'Slicing a ham in icy silence.',\n",
       "  'pack': '2013 Holiday Pack',\n",
       "  'pick': nan,\n",
       "  'color': 'white'},\n",
       " {'text': 'Being blind and deaf and having no limbs.',\n",
       "  'pack': '2013 Holiday Pack',\n",
       "  'pick': nan,\n",
       "  'color': 'white'},\n",
       " {'text': \"Rudolph's bright red balls.\",\n",
       "  'pack': '2013 Holiday Pack',\n",
       "  'pick': nan,\n",
       "  'color': 'white'},\n",
       " {'text': 'A magical tablet containing a world of unlimited pornography.',\n",
       "  'pack': '2013 Holiday Pack',\n",
       "  'pick': nan,\n",
       "  'color': 'white'},\n",
       " {'text': 'A simultaneous nightmare and wet dream starring Sigourney Weaver.',\n",
       "  'pack': '2013 Holiday Pack',\n",
       "  'pick': nan,\n",
       "  'color': 'white'}]"
      ]
     },
     "execution_count": 132,
     "metadata": {},
     "output_type": "execute_result"
    }
   ],
   "source": [
    "unique_white_cards = random.sample(rand_pack_white, 5)\n",
    "unique_white_cards"
   ]
  },
  {
   "cell_type": "code",
   "execution_count": 91,
   "metadata": {},
   "outputs": [
    {
     "ename": "AttributeError",
     "evalue": "'list' object has no attribute 'sample'",
     "output_type": "error",
     "traceback": [
      "\u001b[0;31m---------------------------------------------------------------------------\u001b[0m",
      "\u001b[0;31mAttributeError\u001b[0m                            Traceback (most recent call last)",
      "Cell \u001b[0;32mIn[91], line 3\u001b[0m\n\u001b[1;32m      1\u001b[0m img_bytes \u001b[38;5;241m=\u001b[39m []\n\u001b[1;32m      2\u001b[0m \u001b[38;5;28;01mfor\u001b[39;00m card \u001b[38;5;129;01min\u001b[39;00m \u001b[38;5;28mrange\u001b[39m(\u001b[38;5;241m0\u001b[39m, \u001b[38;5;241m5\u001b[39m):\n\u001b[0;32m----> 3\u001b[0m     white_card \u001b[38;5;241m=\u001b[39m \u001b[43mrand_pack_white\u001b[49m\u001b[38;5;241;43m.\u001b[39;49m\u001b[43msample\u001b[49m()\n\u001b[1;32m      4\u001b[0m     white_card_message \u001b[38;5;241m=\u001b[39m \u001b[38;5;28mstr\u001b[39m(white_card[\u001b[38;5;124m\"\u001b[39m\u001b[38;5;124mtext\u001b[39m\u001b[38;5;124m\"\u001b[39m]\u001b[38;5;241m.\u001b[39msqueeze())\n\u001b[1;32m      5\u001b[0m     white_card_pack \u001b[38;5;241m=\u001b[39m \u001b[38;5;28mstr\u001b[39m(white_card[\u001b[38;5;124m\"\u001b[39m\u001b[38;5;124mpack\u001b[39m\u001b[38;5;124m\"\u001b[39m]\u001b[38;5;241m.\u001b[39msqueeze())\n",
      "\u001b[0;31mAttributeError\u001b[0m: 'list' object has no attribute 'sample'"
     ]
    }
   ],
   "source": [
    "img_bytes = []\n",
    "for card in range(0, 5):\n",
    "    white_card = rand_pack_white.sample()\n",
    "    white_card_message = str(white_card[\"text\"].squeeze())\n",
    "    white_card_pack = str(white_card[\"pack\"].squeeze())\n",
    "    white_card_color = str(white_card[\"color\"].squeeze())\n",
    "white_card_message"
   ]
  },
  {
   "cell_type": "code",
   "execution_count": null,
   "metadata": {},
   "outputs": [],
   "source": []
  }
 ],
 "metadata": {
  "kernelspec": {
   "display_name": "Python 3",
   "language": "python",
   "name": "python3"
  },
  "language_info": {
   "codemirror_mode": {
    "name": "ipython",
    "version": 3
   },
   "file_extension": ".py",
   "mimetype": "text/x-python",
   "name": "python",
   "nbconvert_exporter": "python",
   "pygments_lexer": "ipython3",
   "version": "3.11.4"
  },
  "orig_nbformat": 4
 },
 "nbformat": 4,
 "nbformat_minor": 2
}
